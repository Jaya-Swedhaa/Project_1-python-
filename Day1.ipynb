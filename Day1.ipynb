{
  "nbformat": 4,
  "nbformat_minor": 0,
  "metadata": {
    "colab": {
      "provenance": []
    },
    "kernelspec": {
      "name": "python3",
      "display_name": "Python 3"
    },
    "language_info": {
      "name": "python"
    }
  },
  "cells": [
    {
      "cell_type": "markdown",
      "source": [
        "**LIST**\n"
      ],
      "metadata": {
        "id": "0TZMcFQiy2d6"
      }
    },
    {
      "cell_type": "code",
      "source": [
        "departments= ['AI','blockchain','cloud','data science']\n",
        "print(departments)"
      ],
      "metadata": {
        "colab": {
          "base_uri": "https://localhost:8080/"
        },
        "id": "LQn_JFT9y4Z0",
        "outputId": "33a78d3f-6d23-4e9e-f32f-0fd68f0daf45"
      },
      "execution_count": 1,
      "outputs": [
        {
          "output_type": "stream",
          "name": "stdout",
          "text": [
            "['AI', 'blockchain', 'cloud', 'data science']\n"
          ]
        }
      ]
    },
    {
      "cell_type": "code",
      "source": [
        "print(len(departments))"
      ],
      "metadata": {
        "colab": {
          "base_uri": "https://localhost:8080/"
        },
        "id": "I5ssbEEpz4cE",
        "outputId": "01a026a7-7932-4f38-b571-a2d202362101"
      },
      "execution_count": 2,
      "outputs": [
        {
          "output_type": "stream",
          "name": "stdout",
          "text": [
            "4\n"
          ]
        }
      ]
    },
    {
      "cell_type": "code",
      "source": [
        "list1 =['dept',32,5.6,True]\n",
        "print(list1[2])"
      ],
      "metadata": {
        "colab": {
          "base_uri": "https://localhost:8080/"
        },
        "id": "3TPgWqF10IGl",
        "outputId": "12e76218-ffdb-4c76-a75b-43e851368676"
      },
      "execution_count": 3,
      "outputs": [
        {
          "output_type": "stream",
          "name": "stdout",
          "text": [
            "5.6\n"
          ]
        }
      ]
    },
    {
      "cell_type": "code",
      "source": [
        "print(departments[-1])"
      ],
      "metadata": {
        "colab": {
          "base_uri": "https://localhost:8080/"
        },
        "id": "PWUzZN8D1qrJ",
        "outputId": "655f67c8-67e2-40c0-83f2-bfd5d31e2bf0"
      },
      "execution_count": 4,
      "outputs": [
        {
          "output_type": "stream",
          "name": "stdout",
          "text": [
            "data science\n"
          ]
        }
      ]
    },
    {
      "cell_type": "code",
      "source": [
        "print(departments[1:4])"
      ],
      "metadata": {
        "colab": {
          "base_uri": "https://localhost:8080/"
        },
        "id": "py2stcZ62F0S",
        "outputId": "699dc8fb-b79b-4740-a803-5a03e14ab0af"
      },
      "execution_count": 5,
      "outputs": [
        {
          "output_type": "stream",
          "name": "stdout",
          "text": [
            "['blockchain', 'cloud', 'data science']\n"
          ]
        }
      ]
    },
    {
      "cell_type": "code",
      "source": [
        "list1[2]= \"sector\"\n",
        "print (list1)"
      ],
      "metadata": {
        "colab": {
          "base_uri": "https://localhost:8080/"
        },
        "id": "K-FavONC2c-P",
        "outputId": "a7278883-dbe4-42aa-8c72-7a819aba95eb"
      },
      "execution_count": 6,
      "outputs": [
        {
          "output_type": "stream",
          "name": "stdout",
          "text": [
            "['dept', 32, 'sector', True]\n"
          ]
        }
      ]
    },
    {
      "cell_type": "code",
      "source": [
        "list1.insert(2, 'section')\n",
        "print(list1)"
      ],
      "metadata": {
        "colab": {
          "base_uri": "https://localhost:8080/"
        },
        "id": "3FMkxJpU4IyO",
        "outputId": "cda97790-b2c6-482e-e060-3531e7987c64"
      },
      "execution_count": 7,
      "outputs": [
        {
          "output_type": "stream",
          "name": "stdout",
          "text": [
            "['dept', 32, 'section', 'sector', True]\n"
          ]
        }
      ]
    },
    {
      "cell_type": "code",
      "source": [
        "list1.append('visual')\n",
        "print(list1)"
      ],
      "metadata": {
        "colab": {
          "base_uri": "https://localhost:8080/"
        },
        "id": "FgwWv5Wv4u0l",
        "outputId": "de1fb5ad-53fe-4b51-ea37-209fe0cbcf5e"
      },
      "execution_count": 8,
      "outputs": [
        {
          "output_type": "stream",
          "name": "stdout",
          "text": [
            "['dept', 32, 'section', 'sector', True, 'visual']\n"
          ]
        }
      ]
    },
    {
      "cell_type": "code",
      "source": [
        "list1.extend(departments)\n",
        "print(list1)"
      ],
      "metadata": {
        "colab": {
          "base_uri": "https://localhost:8080/"
        },
        "id": "8iJCzKkr5W1d",
        "outputId": "74f162a0-237b-4e79-d76b-ce8904fda249"
      },
      "execution_count": 9,
      "outputs": [
        {
          "output_type": "stream",
          "name": "stdout",
          "text": [
            "['dept', 32, 'section', 'sector', True, 'visual', 'AI', 'blockchain', 'cloud', 'data science']\n"
          ]
        }
      ]
    },
    {
      "cell_type": "code",
      "source": [
        "list2 = ['dept', 'section', 'sector', 'visual', 'AI', 'blockchain', 'cloud', 'data science']\n",
        "list2.sort()\n",
        "print(list2)"
      ],
      "metadata": {
        "colab": {
          "base_uri": "https://localhost:8080/"
        },
        "id": "qz5NhLm15oAT",
        "outputId": "94f30287-f1a8-42de-c031-dd5e6a0d75e4"
      },
      "execution_count": 11,
      "outputs": [
        {
          "output_type": "stream",
          "name": "stdout",
          "text": [
            "['AI', 'blockchain', 'cloud', 'data science', 'dept', 'section', 'sector', 'visual']\n"
          ]
        }
      ]
    },
    {
      "cell_type": "code",
      "source": [
        "list2.sort(reverse= True)\n",
        "print(list2)"
      ],
      "metadata": {
        "colab": {
          "base_uri": "https://localhost:8080/"
        },
        "id": "W_YRBgio6M7y",
        "outputId": "8ef399a1-fcd6-4b71-934e-5cd9c301ea9c"
      },
      "execution_count": 12,
      "outputs": [
        {
          "output_type": "stream",
          "name": "stdout",
          "text": [
            "['visual', 'sector', 'section', 'dept', 'data science', 'cloud', 'blockchain', 'AI']\n"
          ]
        }
      ]
    },
    {
      "cell_type": "code",
      "source": [
        "print(type(list2))"
      ],
      "metadata": {
        "colab": {
          "base_uri": "https://localhost:8080/"
        },
        "id": "qv1rzvNy8neX",
        "outputId": "110e7151-6a4b-4087-afa9-affdf172b891"
      },
      "execution_count": 15,
      "outputs": [
        {
          "output_type": "stream",
          "name": "stdout",
          "text": [
            "<class 'list'>\n"
          ]
        }
      ]
    },
    {
      "cell_type": "markdown",
      "source": [
        "**TUPLES**"
      ],
      "metadata": {
        "id": "78rA0jLO6dlf"
      }
    },
    {
      "cell_type": "code",
      "source": [
        "T1 =('AI','blockchain','cloud','data science')\n",
        "print(T1)"
      ],
      "metadata": {
        "colab": {
          "base_uri": "https://localhost:8080/"
        },
        "id": "RlDBj_Cb6cgd",
        "outputId": "62b82b81-9b02-47b1-d224-cb0bb400e65c"
      },
      "execution_count": 13,
      "outputs": [
        {
          "output_type": "stream",
          "name": "stdout",
          "text": [
            "('AI', 'blockchain', 'cloud', 'data science')\n"
          ]
        }
      ]
    },
    {
      "cell_type": "code",
      "source": [
        "tuple1 = (\"apple\",)\n",
        "print(type(tuple1))\n",
        "\n",
        "tuple2 = (\"apple\")\n",
        "print(type(tuple2))\n"
      ],
      "metadata": {
        "colab": {
          "base_uri": "https://localhost:8080/"
        },
        "id": "8v3znT2X7Mlb",
        "outputId": "05c95ef3-918e-4d90-8dae-82f188c4da65"
      },
      "execution_count": 14,
      "outputs": [
        {
          "output_type": "stream",
          "name": "stdout",
          "text": [
            "<class 'tuple'>\n",
            "<class 'str'>\n"
          ]
        }
      ]
    },
    {
      "cell_type": "code",
      "source": [
        "print(type(T1))"
      ],
      "metadata": {
        "colab": {
          "base_uri": "https://localhost:8080/"
        },
        "id": "ytB7Cf8n8WMT",
        "outputId": "f5c137c2-70f2-4635-b8cb-feba25d2ce67"
      },
      "execution_count": 16,
      "outputs": [
        {
          "output_type": "stream",
          "name": "stdout",
          "text": [
            "<class 'tuple'>\n"
          ]
        }
      ]
    },
    {
      "cell_type": "code",
      "source": [
        "tup = (('dept', 32, 'section', 'sector', True, 'visual', 'AI', 'blockchain', 'cloud', 'data science'))\n",
        "print(tup)"
      ],
      "metadata": {
        "colab": {
          "base_uri": "https://localhost:8080/"
        },
        "id": "J_mpaIri8zYe",
        "outputId": "d2a10aa7-03c8-4062-8f62-2ef328de6f54"
      },
      "execution_count": 17,
      "outputs": [
        {
          "output_type": "stream",
          "name": "stdout",
          "text": [
            "('dept', 32, 'section', 'sector', True, 'visual', 'AI', 'blockchain', 'cloud', 'data science')\n"
          ]
        }
      ]
    },
    {
      "cell_type": "code",
      "source": [
        "x = (\"abc\", \"bcd\", \"cef\")\n",
        "y = list(x)\n",
        "y[1] = \"xyz\"\n",
        "x = tuple(y)\n",
        "\n",
        "print(x)"
      ],
      "metadata": {
        "colab": {
          "base_uri": "https://localhost:8080/"
        },
        "id": "xxJmJ7Ay9tAk",
        "outputId": "2fafebc6-1f78-4b3b-e58f-f833573f721d"
      },
      "execution_count": 19,
      "outputs": [
        {
          "output_type": "stream",
          "name": "stdout",
          "text": [
            "('abc', 'xyz', 'cef')\n"
          ]
        }
      ]
    },
    {
      "cell_type": "code",
      "source": [
        "print(x[1])"
      ],
      "metadata": {
        "colab": {
          "base_uri": "https://localhost:8080/"
        },
        "id": "YrgWmOQc-gVT",
        "outputId": "9b640bff-21e1-4e1f-826e-eb797a6dbd93"
      },
      "execution_count": 20,
      "outputs": [
        {
          "output_type": "stream",
          "name": "stdout",
          "text": [
            "xyz\n"
          ]
        }
      ]
    },
    {
      "cell_type": "code",
      "source": [
        "things = ('chair', 'phone', 'keyboard')\n",
        "thing1, thing2, thing3 = things"
      ],
      "metadata": {
        "id": "9Q4ZOYtI-5gd"
      },
      "execution_count": 23,
      "outputs": []
    },
    {
      "cell_type": "code",
      "source": [
        "print(thing1)\n",
        "print(thing2)\n",
        "print(thing3)"
      ],
      "metadata": {
        "colab": {
          "base_uri": "https://localhost:8080/"
        },
        "id": "0-ntmn4G_3wH",
        "outputId": "2243afa5-a4f2-4b05-d20e-398b77e4c9c0"
      },
      "execution_count": 24,
      "outputs": [
        {
          "output_type": "stream",
          "name": "stdout",
          "text": [
            "chair\n",
            "phone\n",
            "keyboard\n"
          ]
        }
      ]
    },
    {
      "cell_type": "code",
      "source": [
        "things01 = ('chair', 'phone', 'keyboard', 'charger', 'fan')\n",
        "thing1, thing2, *thing3 = things"
      ],
      "metadata": {
        "id": "_HMAJ6__AFdp"
      },
      "execution_count": 25,
      "outputs": []
    },
    {
      "cell_type": "code",
      "source": [
        "print(thing1)\n",
        "print(thing2)\n",
        "print(thing3)"
      ],
      "metadata": {
        "colab": {
          "base_uri": "https://localhost:8080/"
        },
        "id": "hccjL4hhAda0",
        "outputId": "c819d219-6a84-4c42-a573-92fb2a8951cc"
      },
      "execution_count": 26,
      "outputs": [
        {
          "output_type": "stream",
          "name": "stdout",
          "text": [
            "chair\n",
            "phone\n",
            "['keyboard']\n"
          ]
        }
      ]
    },
    {
      "cell_type": "code",
      "source": [
        "things01 = ('chair', 'phone', 'keyboard', 'charger', 'fan')\n",
        "(thing1, thing2, *thing3) = things01\n",
        "print(thing1)\n",
        "print(thing2)\n",
        "print(thing3)"
      ],
      "metadata": {
        "colab": {
          "base_uri": "https://localhost:8080/"
        },
        "id": "ajYex6MTA-tA",
        "outputId": "7b375c72-4489-492a-fccb-2f904c1d23ca"
      },
      "execution_count": 28,
      "outputs": [
        {
          "output_type": "stream",
          "name": "stdout",
          "text": [
            "chair\n",
            "phone\n",
            "['keyboard', 'charger', 'fan']\n"
          ]
        }
      ]
    },
    {
      "cell_type": "markdown",
      "source": [
        "**SETS**"
      ],
      "metadata": {
        "id": "IELrxEEiDx_V"
      }
    },
    {
      "cell_type": "code",
      "source": [
        "set1 = {\"done\", \"dept\", \"duty\", \"change\", \"bottle\", True, 101, 25}\n",
        "\n",
        "print(set1)"
      ],
      "metadata": {
        "colab": {
          "base_uri": "https://localhost:8080/"
        },
        "id": "e3iBZsk_BZGM",
        "outputId": "41723f77-23dd-47d8-e40a-0dca2610a25d"
      },
      "execution_count": 29,
      "outputs": [
        {
          "output_type": "stream",
          "name": "stdout",
          "text": [
            "{'duty', True, 'dept', 101, 'change', 'bottle', 'done', 25}\n"
          ]
        }
      ]
    },
    {
      "cell_type": "code",
      "source": [
        "set2 = {\"add\", \"buy\", \"catch\"}\n",
        "\n",
        "set2.add(\"drain\")\n",
        "\n",
        "print(set2)"
      ],
      "metadata": {
        "colab": {
          "base_uri": "https://localhost:8080/"
        },
        "id": "cIzH3uOKEzB5",
        "outputId": "df9902d9-98dd-419e-e478-0292f8c6275d"
      },
      "execution_count": 30,
      "outputs": [
        {
          "output_type": "stream",
          "name": "stdout",
          "text": [
            "{'add', 'drain', 'catch', 'buy'}\n"
          ]
        }
      ]
    },
    {
      "cell_type": "code",
      "source": [
        "set1.update(set2)\n",
        "print(set1)"
      ],
      "metadata": {
        "colab": {
          "base_uri": "https://localhost:8080/"
        },
        "id": "q1f-YIRDHXHj",
        "outputId": "5c8309e0-38a5-4a4e-faac-7897d981c175"
      },
      "execution_count": 36,
      "outputs": [
        {
          "output_type": "stream",
          "name": "stdout",
          "text": [
            "{'duty', True, 'dept', 'change', 'drain', 'add', 'bottle', 'done', 'catch', 'buy', 25}\n"
          ]
        }
      ]
    },
    {
      "cell_type": "code",
      "source": [
        "set1.remove(25)\n",
        "print(set1)"
      ],
      "metadata": {
        "colab": {
          "base_uri": "https://localhost:8080/"
        },
        "id": "FFU5Nr6QHjlv",
        "outputId": "0d28d53b-40bb-484b-f9c7-8f383cd6cd16"
      },
      "execution_count": 37,
      "outputs": [
        {
          "output_type": "stream",
          "name": "stdout",
          "text": [
            "{'duty', True, 'dept', 'change', 'drain', 'add', 'bottle', 'done', 'catch', 'buy'}\n"
          ]
        }
      ]
    },
    {
      "cell_type": "code",
      "source": [
        "set1.clear()\n",
        "print(set1)"
      ],
      "metadata": {
        "colab": {
          "base_uri": "https://localhost:8080/"
        },
        "id": "6OQaKO0JICgQ",
        "outputId": "ed6e184f-c987-45d8-cde3-4e1be9a0d4aa"
      },
      "execution_count": 38,
      "outputs": [
        {
          "output_type": "stream",
          "name": "stdout",
          "text": [
            "set()\n"
          ]
        }
      ]
    },
    {
      "cell_type": "markdown",
      "source": [
        "**DICTIONARY**"
      ],
      "metadata": {
        "id": "M3QrcX_LIewx"
      }
    },
    {
      "cell_type": "code",
      "source": [
        "dict0 = { \"Name\": \"Jaya Swedhaa\",\n",
        "          \"Year\": 2002,\n",
        "          \"Age\": 21}\n",
        "\n",
        "print(dict0)"
      ],
      "metadata": {
        "colab": {
          "base_uri": "https://localhost:8080/"
        },
        "id": "p0fIsGuOIeHV",
        "outputId": "66f274e2-884c-4fb3-c642-3fba558a5039"
      },
      "execution_count": 41,
      "outputs": [
        {
          "output_type": "stream",
          "name": "stdout",
          "text": [
            "{'Name': 'Jaya Swedhaa', 'Year': 2002, 'Age': 21}\n"
          ]
        }
      ]
    },
    {
      "cell_type": "code",
      "source": [
        "dict0 = { \"Name\": \"Jaya Swedhaa\",\n",
        "          \"Year\": 2002,\n",
        "          \"Age\": 21,\n",
        "          \"Year\": 2024}\n",
        "\n",
        "print(dict0)"
      ],
      "metadata": {
        "colab": {
          "base_uri": "https://localhost:8080/"
        },
        "id": "a3b8komtRiaR",
        "outputId": "9fbf5096-ab60-4946-f61a-e5fc975d4b9c"
      },
      "execution_count": 42,
      "outputs": [
        {
          "output_type": "stream",
          "name": "stdout",
          "text": [
            "{'Name': 'Jaya Swedhaa', 'Year': 2024, 'Age': 21}\n"
          ]
        }
      ]
    },
    {
      "cell_type": "code",
      "source": [
        "X= dict0.get(\"Name\")\n",
        "print(X)"
      ],
      "metadata": {
        "colab": {
          "base_uri": "https://localhost:8080/"
        },
        "id": "febOihfkRzvj",
        "outputId": "766adedd-c381-4d47-9264-7e2518f375f5"
      },
      "execution_count": 43,
      "outputs": [
        {
          "output_type": "stream",
          "name": "stdout",
          "text": [
            "Jaya Swedhaa\n"
          ]
        }
      ]
    },
    {
      "cell_type": "code",
      "source": [
        "x = dict0.keys()\n",
        "print(x)"
      ],
      "metadata": {
        "colab": {
          "base_uri": "https://localhost:8080/"
        },
        "id": "8fyGkRCoU3AC",
        "outputId": "c158dcb6-a0a7-4b51-dff4-261da1e8d313"
      },
      "execution_count": 44,
      "outputs": [
        {
          "output_type": "stream",
          "name": "stdout",
          "text": [
            "dict_keys(['Name', 'Year', 'Age'])\n"
          ]
        }
      ]
    },
    {
      "cell_type": "code",
      "source": [
        "y=dict0.values()\n",
        "print(y)"
      ],
      "metadata": {
        "colab": {
          "base_uri": "https://localhost:8080/"
        },
        "id": "WfYLew71VBYT",
        "outputId": "55d06385-a479-49c5-80e8-b380c28493aa"
      },
      "execution_count": 45,
      "outputs": [
        {
          "output_type": "stream",
          "name": "stdout",
          "text": [
            "dict_values(['Jaya Swedhaa', 2024, 21])\n"
          ]
        }
      ]
    },
    {
      "cell_type": "code",
      "source": [
        "dict0['Year']=2002\n",
        "print(dict0)"
      ],
      "metadata": {
        "colab": {
          "base_uri": "https://localhost:8080/"
        },
        "id": "bVXxyhZ8VTLS",
        "outputId": "c67c46ef-1d57-4ae5-e3d8-f8f0bd41a1c4"
      },
      "execution_count": 46,
      "outputs": [
        {
          "output_type": "stream",
          "name": "stdout",
          "text": [
            "{'Name': 'Jaya Swedhaa', 'Year': 2002, 'Age': 21}\n"
          ]
        }
      ]
    },
    {
      "cell_type": "code",
      "source": [
        "dict1={'Name': 'Jaya Swedhaa', 'Year': 2002, 'Age': 21}\n",
        "dict1.values()\n",
        "print(dict1)\n",
        "dict1['Year']=2024\n",
        "print(dict1)"
      ],
      "metadata": {
        "colab": {
          "base_uri": "https://localhost:8080/"
        },
        "id": "CikjlGb6Vj-0",
        "outputId": "279cda58-a123-4935-8039-ae16859dfbbf"
      },
      "execution_count": 47,
      "outputs": [
        {
          "output_type": "stream",
          "name": "stdout",
          "text": [
            "{'Name': 'Jaya Swedhaa', 'Year': 2002, 'Age': 21}\n",
            "{'Name': 'Jaya Swedhaa', 'Year': 2024, 'Age': 21}\n"
          ]
        }
      ]
    },
    {
      "cell_type": "code",
      "source": [
        "girls={\n",
        "    \"Thamarai\":{\"Age\":20,\n",
        "              \"Year\":2003},\n",
        "    \"Jaya\": {\"Age\":21,\n",
        "           \"Year\":2002}\n",
        "}\n",
        "print(girls)\n",
        ""
      ],
      "metadata": {
        "colab": {
          "base_uri": "https://localhost:8080/"
        },
        "id": "bNkC9wNXWGGs",
        "outputId": "70487d4e-423c-4e2e-b3c9-8dc05da100d0"
      },
      "execution_count": 49,
      "outputs": [
        {
          "output_type": "stream",
          "name": "stdout",
          "text": [
            "{'Thamarai': {'Age': 20, 'Year': 2003}, 'Jaya': {'Age': 21, 'Year': 2002}}\n"
          ]
        }
      ]
    }
  ]
}