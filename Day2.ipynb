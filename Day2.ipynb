{
  "nbformat": 4,
  "nbformat_minor": 0,
  "metadata": {
    "colab": {
      "provenance": []
    },
    "kernelspec": {
      "name": "python3",
      "display_name": "Python 3"
    },
    "language_info": {
      "name": "python"
    }
  },
  "cells": [
    {
      "cell_type": "markdown",
      "source": [
        "**FUNCTIONS**"
      ],
      "metadata": {
        "id": "CZWkOVN-36Im"
      }
    },
    {
      "cell_type": "code",
      "source": [
        "# function with arguments\n",
        "\n",
        "def func(name, initial):\n",
        "  print(name+\" \"+initial)\n",
        "func(\"Jaya\",\"R S\")"
      ],
      "metadata": {
        "colab": {
          "base_uri": "https://localhost:8080/"
        },
        "id": "KV-rdKVM6wba",
        "outputId": "d42fa248-898a-4430-d21d-447a10b8deed"
      },
      "execution_count": null,
      "outputs": [
        {
          "output_type": "stream",
          "name": "stdout",
          "text": [
            "Jaya R S\n"
          ]
        }
      ]
    },
    {
      "cell_type": "code",
      "source": [
        "def fruits(*fruits):\n",
        "  print(\" I would like to have \"+ fruits[5])\n",
        "fruits(\"apple\",\"banana\",\"kiwi\",\"jack\",\"orange\",\"mango\")"
      ],
      "metadata": {
        "colab": {
          "base_uri": "https://localhost:8080/"
        },
        "id": "_z-hW9C67il-",
        "outputId": "887caa6c-ca67-49ab-8106-ca2fb64d29ab"
      },
      "execution_count": null,
      "outputs": [
        {
          "output_type": "stream",
          "name": "stdout",
          "text": [
            " I would like to have mango\n"
          ]
        }
      ]
    },
    {
      "cell_type": "code",
      "source": [
        "def fruitss (fruit1, fruit5, fruit4, fruit0, fruit3, fruit2 ):\n",
        "  print(\" I would like to have \"+fruit2)\n",
        "fruitss(fruit0=\"apple\",fruit1=\"banana\", fruit2=\"kiwi\",fruit3=\"jack\",fruit4=\"orange\",fruit5=\"mango\")"
      ],
      "metadata": {
        "id": "KMYrzXnv9g9Y"
      },
      "execution_count": null,
      "outputs": []
    },
    {
      "cell_type": "code",
      "source": [
        "def func1(x):\n",
        "  return 5*x\n",
        "print(func1(6))\n",
        "print(func1(9))"
      ],
      "metadata": {
        "colab": {
          "base_uri": "https://localhost:8080/"
        },
        "id": "OLQhDyvmIp-g",
        "outputId": "41dbc8dc-a1d8-497c-86d5-ee9276d6257a"
      },
      "execution_count": null,
      "outputs": [
        {
          "output_type": "stream",
          "name": "stdout",
          "text": [
            "30\n",
            "45\n"
          ]
        }
      ]
    },
    {
      "cell_type": "code",
      "source": [
        "def func1():\n",
        "  pass"
      ],
      "metadata": {
        "id": "SU3fQP1DJSPj"
      },
      "execution_count": null,
      "outputs": []
    },
    {
      "cell_type": "code",
      "source": [
        "#positional and keyword\n",
        "\n",
        "def func2(x,y, /, *,w,z):\n",
        "  print(x+y*w/z)\n",
        "func2(3,9,w=2,z=5)"
      ],
      "metadata": {
        "colab": {
          "base_uri": "https://localhost:8080/"
        },
        "id": "cRmt5iUnJfSt",
        "outputId": "86e9c0b9-3122-48d2-f004-e799cf56dca6"
      },
      "execution_count": null,
      "outputs": [
        {
          "output_type": "stream",
          "name": "stdout",
          "text": [
            "6.6\n"
          ]
        }
      ]
    },
    {
      "cell_type": "code",
      "source": [
        "def tri_recursion(k):\n",
        "  if(k > 0):\n",
        "    result = k + tri_recursion(k - 1)\n",
        "    print(result)\n",
        "  else:\n",
        "    result = 0\n",
        "  return result\n",
        "\n",
        "print(\"\\n\\nRecursion Example Results\")\n",
        "tri_recursion(6)"
      ],
      "metadata": {
        "colab": {
          "base_uri": "https://localhost:8080/"
        },
        "id": "Z30FRHQkKrQA",
        "outputId": "d5bd6a39-562f-4db9-a07f-649187175326"
      },
      "execution_count": null,
      "outputs": [
        {
          "output_type": "stream",
          "name": "stdout",
          "text": [
            "\n",
            "\n",
            "Recursion Example Results\n",
            "1\n",
            "3\n",
            "6\n",
            "10\n",
            "15\n",
            "21\n"
          ]
        },
        {
          "output_type": "execute_result",
          "data": {
            "text/plain": [
              "21"
            ]
          },
          "metadata": {},
          "execution_count": 13
        }
      ]
    },
    {
      "cell_type": "code",
      "source": [
        "def recur(x):\n",
        "  if(x<10):\n",
        "    print(x+ recur(x-1))\n",
        "  else:\n",
        "    print(0)\n",
        "print(\"results are\")\n",
        "recur(11)"
      ],
      "metadata": {
        "colab": {
          "base_uri": "https://localhost:8080/"
        },
        "id": "YzjDXHfbK5Zg",
        "outputId": "6fcd79b2-a07d-432b-8cc8-a71ba65843c2"
      },
      "execution_count": null,
      "outputs": [
        {
          "output_type": "stream",
          "name": "stdout",
          "text": [
            "results are\n",
            "0\n"
          ]
        }
      ]
    },
    {
      "cell_type": "code",
      "source": [
        "def area(name):\n",
        "  name=name.lower()\n",
        "\n",
        "  if name==\"square\":\n",
        "    s=5\n",
        "    a=s*s\n",
        "    print(f\"the area of square is {a}.\")\n",
        "\n",
        "  elif name==\"triangle\":\n",
        "    b=20\n",
        "    h=10\n",
        "    v=0.5*b*h\n",
        "    print(f\"the area of trinagle is {v}.\")\n",
        "\n",
        "  else:\n",
        "    print(\"This shape is not available\")\n",
        "\n",
        "if __name__=='__main__':\n",
        "  shape_name=input(\"enter the shape name: \")\n",
        "  area(shape_name)"
      ],
      "metadata": {
        "colab": {
          "base_uri": "https://localhost:8080/"
        },
        "id": "ff7Hr_8cHQ6l",
        "outputId": "06c9faed-87dc-49a4-f6c8-b9078d4409aa"
      },
      "execution_count": 11,
      "outputs": [
        {
          "output_type": "stream",
          "name": "stdout",
          "text": [
            "enter the shape name: triangle\n",
            "the area of trinagle is 100.0.\n"
          ]
        }
      ]
    },
    {
      "cell_type": "markdown",
      "source": [
        "# **OOPS**"
      ],
      "metadata": {
        "id": "xIRm5q7NRcv7"
      }
    },
    {
      "cell_type": "markdown",
      "source": [
        "**CLASS AND OBJECT**"
      ],
      "metadata": {
        "id": "oD0sR89RRj1U"
      }
    },
    {
      "cell_type": "code",
      "source": [
        "class mydetail:\n",
        "  def __init__(self, name, age):\n",
        "    self.name = name\n",
        "    self.age = age\n",
        "p1=mydetail(\"Jaya Swedhaa\",21)\n",
        "print(p1.name)\n",
        "print(p1.age)"
      ],
      "metadata": {
        "colab": {
          "base_uri": "https://localhost:8080/"
        },
        "id": "S3HWnkvuSemZ",
        "outputId": "6e8f43aa-a8fb-4351-cc57-864b9416a72e"
      },
      "execution_count": null,
      "outputs": [
        {
          "output_type": "stream",
          "name": "stdout",
          "text": [
            "Jaya Swedhaa\n",
            "21\n"
          ]
        }
      ]
    },
    {
      "cell_type": "code",
      "source": [
        "class mydetail:\n",
        "\n",
        "  def __init__(self, name, age):\n",
        "    self.name = name\n",
        "    self.age = age\n",
        "\n",
        "  def func(self):\n",
        "    print(\"hello \"+ self.name)\n",
        "\n",
        "p1=mydetail(\"Jaya Swedhaa\",21)\n",
        "#p1.age=22\n",
        "#p1.func()\n",
        "#del p1.age\n",
        "print(p1.age)\n"
      ],
      "metadata": {
        "colab": {
          "base_uri": "https://localhost:8080/"
        },
        "id": "F-3X-ceuU2N1",
        "outputId": "12d2ebc6-bb1e-464b-e6af-b8269416bb76"
      },
      "execution_count": null,
      "outputs": [
        {
          "output_type": "stream",
          "name": "stdout",
          "text": [
            "21\n"
          ]
        }
      ]
    },
    {
      "cell_type": "code",
      "source": [
        "class mydetail:\n",
        "  def func(abc):\n",
        "    print(\"hello \"+ abc.name)\n",
        "p1.func()"
      ],
      "metadata": {
        "colab": {
          "base_uri": "https://localhost:8080/"
        },
        "id": "EYRLZeDqWaR0",
        "outputId": "6a42ec49-e41f-4ec6-8d38-1348d4f24fa6"
      },
      "execution_count": null,
      "outputs": [
        {
          "output_type": "stream",
          "name": "stdout",
          "text": [
            "hello Jaya Swedhaa\n"
          ]
        }
      ]
    },
    {
      "cell_type": "markdown",
      "source": [
        "**INHERITANCE**"
      ],
      "metadata": {
        "id": "YeUfe1mznsuU"
      }
    },
    {
      "cell_type": "code",
      "source": [
        "class detail:\n",
        "  def __init__(self,fname,lname):\n",
        "    self.fname = fname\n",
        "    self.lname = lname\n",
        "\n",
        "  def printname(self):\n",
        "    print(self.fname, self.lname)\n",
        "\n",
        "x=detail(\"Jaya Swedhaa\",\"R S\")\n",
        "x.printname()"
      ],
      "metadata": {
        "colab": {
          "base_uri": "https://localhost:8080/"
        },
        "id": "A5szOZKdiWDD",
        "outputId": "9748ae72-3f78-4121-ecd8-797626779428"
      },
      "execution_count": null,
      "outputs": [
        {
          "output_type": "stream",
          "name": "stdout",
          "text": [
            "Jaya Swedhaa R S\n"
          ]
        }
      ]
    },
    {
      "cell_type": "code",
      "source": [
        "class person(detail):\n",
        "  pass\n",
        "\n",
        "x= person(\"Jaya\",\"Swedhaa\")\n",
        "x.printname()"
      ],
      "metadata": {
        "colab": {
          "base_uri": "https://localhost:8080/"
        },
        "id": "j1YHRZyzrszx",
        "outputId": "757d5969-8bd3-4fc3-b141-05f3c366c743"
      },
      "execution_count": null,
      "outputs": [
        {
          "output_type": "stream",
          "name": "stdout",
          "text": [
            "Jaya Swedhaa\n"
          ]
        }
      ]
    },
    {
      "cell_type": "code",
      "source": [
        "class person(detail):\n",
        "  def __init__(self,fname,lname):\n",
        "    detail.__init__(self,fname,lname)\n",
        "x= person(\"Jaya\",\"Swedhaa\")\n",
        "x.printname()"
      ],
      "metadata": {
        "colab": {
          "base_uri": "https://localhost:8080/"
        },
        "id": "muYXmJJ4wkHy",
        "outputId": "3b1de86c-9ee3-4260-dc5b-c8e9577c73f3"
      },
      "execution_count": null,
      "outputs": [
        {
          "output_type": "stream",
          "name": "stdout",
          "text": [
            "Jaya Swedhaa\n"
          ]
        }
      ]
    },
    {
      "cell_type": "code",
      "source": [
        "class detail:\n",
        "  def __init__(self,fname,lname):\n",
        "    self.fname = fname\n",
        "    self.lname = lname\n",
        "\n",
        "  def name(self):\n",
        "    print(self.fname, self.lname)\n",
        "\n",
        "class person(detail):\n",
        "  def __init__(self,fname,lname,year):\n",
        "    super().__init__(fname,lname)\n",
        "    self.graduationyear=year\n",
        "\n",
        "  def year(self):\n",
        "    print(self.graduationyear)\n",
        "\n",
        "x= person(\"Jaya\",\"Swedhaa\",2024)\n",
        "x.name()\n",
        "x.year()\n"
      ],
      "metadata": {
        "colab": {
          "base_uri": "https://localhost:8080/"
        },
        "id": "U-h6lNjdyhB-",
        "outputId": "b298b469-fd96-47a6-8c4c-7b666cf29b06"
      },
      "execution_count": null,
      "outputs": [
        {
          "output_type": "stream",
          "name": "stdout",
          "text": [
            "Jaya Swedhaa\n",
            "2024\n"
          ]
        }
      ]
    },
    {
      "cell_type": "markdown",
      "source": [
        "**POLYMORPHISM**"
      ],
      "metadata": {
        "id": "W6QtBWwu0cBD"
      }
    },
    {
      "cell_type": "code",
      "source": [
        "class pet:\n",
        "  def __init__(self, child, sound):\n",
        "    self.child=child\n",
        "    self.sound=sound\n",
        "\n",
        "class dog(pet):\n",
        "  def petname(self):\n",
        "    print(\"Doggy\")\n",
        "\n",
        "class cat(pet):\n",
        "  def petname(self):\n",
        "    print(\"katt\")\n",
        "\n",
        "dog1=dog(\"puppy\",\"bark\")\n",
        "cat1=cat(\"kitten\", \"meow\")\n",
        "\n",
        "for x in (dog1,cat1):\n",
        "  x.petname()"
      ],
      "metadata": {
        "id": "WG-RD8Xq0byz",
        "colab": {
          "base_uri": "https://localhost:8080/"
        },
        "outputId": "12228a39-7f96-49f0-805b-0589f3afbf12"
      },
      "execution_count": null,
      "outputs": [
        {
          "output_type": "stream",
          "name": "stdout",
          "text": [
            "Doggy\n",
            "katt\n"
          ]
        }
      ]
    },
    {
      "cell_type": "code",
      "source": [
        "for y in (dog1,cat1):\n",
        "  print(y.child)\n",
        "  print(y.sound)"
      ],
      "metadata": {
        "colab": {
          "base_uri": "https://localhost:8080/"
        },
        "id": "XGOLdW41-pji",
        "outputId": "191ac5f0-38ef-415d-dd47-01c8f3cf3d7e"
      },
      "execution_count": null,
      "outputs": [
        {
          "output_type": "stream",
          "name": "stdout",
          "text": [
            "puppy\n",
            "bark\n",
            "kitten\n",
            "meow\n"
          ]
        }
      ]
    },
    {
      "cell_type": "markdown",
      "source": [
        "**ITERATOR**"
      ],
      "metadata": {
        "id": "ivnc9VLKA-7Q"
      }
    },
    {
      "cell_type": "code",
      "source": [
        "class MyNumbers:\n",
        "  def __iter__(self):\n",
        "    self.a=1\n",
        "    return self\n",
        "\n",
        "  def __next__(self):\n",
        "    x = self.a\n",
        "    self.a += 1\n",
        "    return x\n",
        "\n",
        "myclass = MyNumbers()\n",
        "myiter = iter(myclass)\n",
        "\n",
        "print(next(myiter))\n",
        "print(next(myiter))\n",
        "print(next(myiter))\n",
        "print(next(myiter))\n",
        "print(next(myiter))"
      ],
      "metadata": {
        "colab": {
          "base_uri": "https://localhost:8080/"
        },
        "id": "h7DJ2EOTEkhB",
        "outputId": "6220e5dc-2c5f-497a-d643-a2684bd5316f"
      },
      "execution_count": null,
      "outputs": [
        {
          "output_type": "stream",
          "name": "stdout",
          "text": [
            "1\n",
            "2\n",
            "3\n",
            "4\n",
            "5\n"
          ]
        }
      ]
    },
    {
      "cell_type": "code",
      "source": [
        "class MyNumbers:\n",
        "  def __iter__(self):\n",
        "    self.a = 1\n",
        "    return self\n",
        "\n",
        "  def __next__(self):\n",
        "    if self.a <= 10:\n",
        "      x = self.a\n",
        "      self.a += 1\n",
        "      return x\n",
        "    else:\n",
        "      raise StopIteration\n",
        "\n",
        "myclass = MyNumbers()\n",
        "myiter = iter(myclass)\n",
        "\n",
        "for x in myiter:\n",
        "  print(x)"
      ],
      "metadata": {
        "colab": {
          "base_uri": "https://localhost:8080/"
        },
        "id": "DjfieVTtE5iS",
        "outputId": "550d77c8-a935-460d-c155-36f43ca06b9f"
      },
      "execution_count": null,
      "outputs": [
        {
          "output_type": "stream",
          "name": "stdout",
          "text": [
            "1\n",
            "2\n",
            "3\n",
            "4\n",
            "5\n",
            "6\n",
            "7\n",
            "8\n",
            "9\n",
            "10\n"
          ]
        }
      ]
    },
    {
      "cell_type": "markdown",
      "source": [
        "**CREATING A** **MODULE**"
      ],
      "metadata": {
        "id": "3abk71h9RkKO"
      }
    },
    {
      "cell_type": "code",
      "source": [
        "%%writefile app.py\n",
        "\n",
        "def appli():\n",
        "  print(\"JS WORLD\")\n",
        "\n",
        "location=\"Chennai\""
      ],
      "metadata": {
        "id": "6wB72uXxFqsB",
        "colab": {
          "base_uri": "https://localhost:8080/"
        },
        "outputId": "209b6f96-c8ba-46ef-b775-0fa3b19ae7bc"
      },
      "execution_count": 1,
      "outputs": [
        {
          "output_type": "stream",
          "name": "stdout",
          "text": [
            "Writing app.py\n"
          ]
        }
      ]
    },
    {
      "cell_type": "code",
      "source": [
        "import app\n",
        "app.appli()\n",
        "print(app.location)"
      ],
      "metadata": {
        "colab": {
          "base_uri": "https://localhost:8080/"
        },
        "id": "D939C6EURSTJ",
        "outputId": "7e7458b3-43e2-4a97-8505-e2ee1b6d682a"
      },
      "execution_count": 2,
      "outputs": [
        {
          "output_type": "stream",
          "name": "stdout",
          "text": [
            "JS WORLD\n",
            "Chennai\n"
          ]
        }
      ]
    }
  ]
}